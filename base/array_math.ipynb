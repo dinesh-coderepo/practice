{
 "cells": [
  {
   "cell_type": "markdown",
   "id": "d5ac8940",
   "metadata": {},
   "source": [
    "## Math problem\n",
    "\n",
    "`Mix of all math and data structures`\n",
    "\n",
    "[problem link](https://leetcode.com/problems/find-all-possible-stable-binary-arrays-ii/description/)\n",
    "\n",
    "\n",
    " "
   ]
  },
  {
   "cell_type": "code",
   "execution_count": null,
   "id": "92224cc5",
   "metadata": {},
   "outputs": [],
   "source": [
    "class problem:\n",
    "    def __init__(self):\n",
    "        self.solver = 'Dinesh'\n",
    "    \n",
    "    \n"
   ]
  },
  {
   "cell_type": "code",
   "execution_count": 6,
   "id": "e616b24d",
   "metadata": {},
   "outputs": [],
   "source": [
    "y = problem()"
   ]
  },
  {
   "cell_type": "code",
   "execution_count": null,
   "id": "052f37fc",
   "metadata": {},
   "outputs": [],
   "source": [
    "from itertools import combinations\n",
    "combinations()\n"
   ]
  },
  {
   "cell_type": "code",
   "execution_count": null,
   "id": "d4ba0a26",
   "metadata": {},
   "outputs": [],
   "source": [
    "def numberOfStableArrays(zero: int, one: int, limit: int) -> int:\n",
    "    pass"
   ]
  },
  {
   "cell_type": "code",
   "execution_count": null,
   "id": "3d9aba26",
   "metadata": {},
   "outputs": [],
   "source": []
  },
  {
   "cell_type": "code",
   "execution_count": null,
   "id": "5557f9e2",
   "metadata": {},
   "outputs": [],
   "source": []
  }
 ],
 "metadata": {
  "kernelspec": {
   "display_name": "practice",
   "language": "python",
   "name": "python3"
  },
  "language_info": {
   "codemirror_mode": {
    "name": "ipython",
    "version": 3
   },
   "file_extension": ".py",
   "mimetype": "text/x-python",
   "name": "python",
   "nbconvert_exporter": "python",
   "pygments_lexer": "ipython3",
   "version": "3.12.11"
  }
 },
 "nbformat": 4,
 "nbformat_minor": 5
}
